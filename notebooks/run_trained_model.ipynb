{
 "cells": [
  {
   "cell_type": "code",
   "execution_count": null,
   "metadata": {},
   "outputs": [],
   "source": [
    "import yaml\n",
    "import copy\n",
    "\n",
    "from kaggle_environments import make\n",
    "from kaggle_environments.envs.halite.helpers import (\n",
    "    Board,\n",
    "    Point,\n",
    "    ShipAction,\n",
    "    ShipyardAction,\n",
    ")\n",
    "\n",
    "from halite_rl.agent import Agent"
   ]
  },
  {
   "cell_type": "code",
   "execution_count": null,
   "metadata": {},
   "outputs": [],
   "source": [
    "# Create environment based on Halite IV challenge.\n",
    "environment = make(\n",
    "    \"halite\",\n",
    "    # See full list of configuration options here: \n",
    "    # https://github.com/Kaggle/kaggle-environments/blob/master/kaggle_environments/envs/halite/halite.json\n",
    "    configuration={\n",
    "        \"startingHalite\": 5000,\n",
    "        \"size\": 21,\n",
    "        \"spawnCost\": 500,\n",
    "        \"convertCost\": 500,\n",
    "        \"moveCost\": 0,\n",
    "        \"collectRate\": 0.25,\n",
    "        \"regenRate\": 0.02,\n",
    "        \"maxCellHalite\": 500,        \n",
    "    })\n",
    "agent_count = 2\n",
    "state = environment.reset(agent_count)"
   ]
  },
  {
   "cell_type": "code",
   "execution_count": null,
   "metadata": {},
   "outputs": [],
   "source": [
    "# Load config.\n",
    "with open(\"../scripts/ppo_config.yaml\") as f:\n",
    "    config = yaml.safe_load(f)"
   ]
  },
  {
   "cell_type": "code",
   "execution_count": null,
   "metadata": {},
   "outputs": [],
   "source": [
    "# dummy agent.\n",
    "def move_ships_north_agent(observation, configuration):\n",
    "    board = Board(observation, configuration)\n",
    "    current_player = board.current_player\n",
    "    for ship in current_player.ships:\n",
    "        ship.next_action = ShipAction.NORTH\n",
    "    return current_player.next_actions"
   ]
  },
  {
   "cell_type": "code",
   "execution_count": null,
   "metadata": {},
   "outputs": [],
   "source": [
    "agent_1 = Agent(config, sample_actions=True)\n",
    "#agent_1 = \"random\""
   ]
  },
  {
   "cell_type": "code",
   "execution_count": null,
   "metadata": {},
   "outputs": [],
   "source": [
    "config2 = copy.copy(config)\n",
    "config2[\"CHECKPOINT_PATH\"] = \"\" # Dummy agent\n",
    "agent_2 = Agent(config2, sample_actions=True)\n",
    "#agent_2 = move_ships_north_agent"
   ]
  },
  {
   "cell_type": "code",
   "execution_count": null,
   "metadata": {},
   "outputs": [],
   "source": [
    "state = environment.reset(agent_count)\n",
    "environment.run([agent_1, agent_2])\n",
    "environment.render(mode=\"ipython\", width=550, height=450)"
   ]
  },
  {
   "cell_type": "code",
   "execution_count": null,
   "metadata": {},
   "outputs": [],
   "source": []
  }
 ],
 "metadata": {
  "kernelspec": {
   "display_name": "Python 3",
   "language": "python",
   "name": "python3"
  },
  "language_info": {
   "codemirror_mode": {
    "name": "ipython",
    "version": 3
   },
   "file_extension": ".py",
   "mimetype": "text/x-python",
   "name": "python",
   "nbconvert_exporter": "python",
   "pygments_lexer": "ipython3",
   "version": "3.7.9"
  }
 },
 "nbformat": 4,
 "nbformat_minor": 4
}
