{
 "cells": [
  {
   "cell_type": "code",
   "execution_count": null,
   "metadata": {},
   "outputs": [],
   "source": [
    "# A notebook for stepping through an episode and visualizing the\n",
    "# imitation agent's behaviour against the original at every step."
   ]
  },
  {
   "cell_type": "code",
   "execution_count": null,
   "metadata": {},
   "outputs": [],
   "source": [
    "import copy\n",
    "import json\n",
    "import yaml\n",
    "\n",
    "from kaggle_environments import make\n",
    "from kaggle_environments.envs.halite.helpers import (\n",
    "    Board,\n",
    "    board_agent,\n",
    "    ShipAction,\n",
    "    ShipyardAction,\n",
    ")\n",
    "\n",
    "from halite_rl.agent import Agent"
   ]
  },
  {
   "cell_type": "code",
   "execution_count": null,
   "metadata": {},
   "outputs": [],
   "source": [
    "def visualize_agent_action(game, agent, step, team_name):\n",
    "    \"\"\"Visualize the step that an agent *would* have taken\n",
    "    given a state from a real game.\n",
    "    \"\"\"\n",
    "    # Determine whether team of interest is player 0 or 1.\n",
    "    # Raises exception if neither team name matches.\n",
    "    team_idx = game[\"info\"][\"TeamNames\"].index(team_name)\n",
    "    \n",
    "    config = game[\"configuration\"]\n",
    "    \n",
    "    # Create environment with steps up to the current step of interest.\n",
    "    tmp_env = make('halite', configuration=config, steps=imitation_game['steps'][:step+1])\n",
    "    state = copy.deepcopy(tmp_env.state[0])\n",
    "    # Get actions that were taken from this state in the original game.\n",
    "    next_actions = [\n",
    "        imitation_game['steps'][step+1][0]['action'],\n",
    "        imitation_game['steps'][step+1][1]['action'],\n",
    "    ]\n",
    "    # Wipe actions for one user - we are going to use an agent instead.\n",
    "    next_actions[team_idx] = {}\n",
    "    # Set current player to be the player of interest.\n",
    "    state[\"observation\"][\"player\"] = team_idx\n",
    "\n",
    "    board = Board(state[\"observation\"], config, next_actions)\n",
    "    agent.set_board_actions(board) # agent should update current_player next_actions in-place.\n",
    "    \n",
    "    tmp_env.step([board.players[0].next_actions, board.players[1].next_actions])\n",
    "    tmp_env.render(mode=\"ipython\", width=500, height=350, autoplay=False)"
   ]
  },
  {
   "cell_type": "code",
   "execution_count": null,
   "metadata": {},
   "outputs": [],
   "source": [
    "# Load config.\n",
    "with open(\"../scripts/imitation_config.yaml\") as f:\n",
    "    config = yaml.safe_load(f)"
   ]
  },
  {
   "cell_type": "code",
   "execution_count": null,
   "metadata": {},
   "outputs": [],
   "source": [
    "# # Dummy agent.\n",
    "# def move_ships_north_agent(board):\n",
    "#     current_player = board.current_player\n",
    "#     for ship in current_player.ships:\n",
    "#         ship.next_action = ShipAction.NORTH\n",
    "\n",
    "agent = Agent(config)"
   ]
  },
  {
   "cell_type": "code",
   "execution_count": null,
   "metadata": {},
   "outputs": [],
   "source": [
    "# Load game of interest.\n",
    "# TODO: Select episodes from validation set.\n",
    "game_path = \"../data/submission_17327012_episodes/3603130.json\"\n",
    "with open(game_path) as f:\n",
    "    game = json.loads(json.load(f)[\"replay\"])\n",
    "imitation_game = copy.deepcopy(game)"
   ]
  },
  {
   "cell_type": "code",
   "execution_count": null,
   "metadata": {},
   "outputs": [],
   "source": [
    "print(game.keys())"
   ]
  },
  {
   "cell_type": "code",
   "execution_count": null,
   "metadata": {},
   "outputs": [],
   "source": [
    "game[\"info\"]"
   ]
  },
  {
   "cell_type": "code",
   "execution_count": null,
   "metadata": {},
   "outputs": [],
   "source": [
    "game[\"rewards\"]"
   ]
  },
  {
   "cell_type": "code",
   "execution_count": null,
   "metadata": {},
   "outputs": [],
   "source": [
    "step = 200"
   ]
  },
  {
   "cell_type": "code",
   "execution_count": null,
   "metadata": {},
   "outputs": [],
   "source": [
    "#\n",
    "# Repeatedly re-run this cell to step through the game.\n",
    "#\n",
    "\n",
    "# Render original game.\n",
    "print(\"Original game\")\n",
    "env = make('halite', configuration=game['configuration'], steps=game['steps'])\n",
    "env.render(mode=\"ipython\", width=500, height=400, step=step+1, autoplay=False)\n",
    "\n",
    "# Render imitation step.\n",
    "print(f\"Step {step+1} -> {step+2}\") # Step numbering in viewer starts at 1.\n",
    "visualize_agent_action(imitation_game, agent, step=step, team_name=\"Stanley Zheng\")\n",
    "step += 1"
   ]
  },
  {
   "cell_type": "code",
   "execution_count": null,
   "metadata": {},
   "outputs": [],
   "source": [
    "# Find a way to step through game by just replaying the cell"
   ]
  }
 ],
 "metadata": {
  "kernelspec": {
   "display_name": "Python 3",
   "language": "python",
   "name": "python3"
  },
  "language_info": {
   "codemirror_mode": {
    "name": "ipython",
    "version": 3
   },
   "file_extension": ".py",
   "mimetype": "text/x-python",
   "name": "python",
   "nbconvert_exporter": "python",
   "pygments_lexer": "ipython3",
   "version": "3.7.9"
  }
 },
 "nbformat": 4,
 "nbformat_minor": 4
}
