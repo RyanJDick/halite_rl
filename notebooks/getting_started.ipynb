{
 "cells": [
  {
   "cell_type": "code",
   "execution_count": null,
   "metadata": {},
   "outputs": [],
   "source": [
    "from kaggle_environments import make\n",
    "from kaggle_environments.envs.halite.helpers import (\n",
    "    Board,\n",
    "    Point,\n",
    "    ShipAction,\n",
    "    ShipyardAction,\n",
    ")"
   ]
  },
  {
   "cell_type": "code",
   "execution_count": null,
   "metadata": {},
   "outputs": [],
   "source": [
    "# Helpful reference notebook:\n",
    "# https://www.kaggle.com/c/halite-iv-playground-edition/overview/halite-rules"
   ]
  },
  {
   "cell_type": "code",
   "execution_count": null,
   "metadata": {},
   "outputs": [],
   "source": [
    "# Create environment based on Halite IV challenge.\n",
    "environment = make(\n",
    "    \"halite\",\n",
    "    # See full list of configuration options here: \n",
    "    # https://github.com/Kaggle/kaggle-environments/blob/master/kaggle_environments/envs/halite/halite.json\n",
    "    configuration={\n",
    "        \"startingHalite\": 5000,\n",
    "        \"size\": 21,\n",
    "        \"spawnCost\": 500,\n",
    "        \"convertCost\": 500,\n",
    "        \"moveCost\": 0,\n",
    "        \"collectRate\": 0.25,\n",
    "        \"regenRate\": 0.02,\n",
    "        \"maxCellHalite\": 500,        \n",
    "    })\n",
    "agent_count = 2\n",
    "environment.reset(agent_count)\n",
    "#state = "
   ]
  },
  {
   "cell_type": "code",
   "execution_count": null,
   "metadata": {},
   "outputs": [],
   "source": [
    "board = Board(environment.state[0].observation, environment.configuration)\n",
    "print(board)"
   ]
  },
  {
   "cell_type": "code",
   "execution_count": null,
   "metadata": {},
   "outputs": [],
   "source": [
    "def move_ships_north_agent(observation, configuration):\n",
    "    board = Board(observation, configuration)\n",
    "    current_player = board.current_player\n",
    "    for ship in current_player.ships:\n",
    "        ship.next_action = ShipAction.NORTH\n",
    "    return current_player.next_actions\n",
    "\n",
    "environment.reset(agent_count)\n",
    "environment.run([move_ships_north_agent, \"random\"])\n",
    "environment.render(mode=\"ipython\", width=500, height=450)"
   ]
  },
  {
   "cell_type": "code",
   "execution_count": null,
   "metadata": {},
   "outputs": [],
   "source": [
    "final_board = Board(environment.state[0].observation, environment.configuration)\n",
    "{p.id: p.halite for p in final_board.players.values()}"
   ]
  },
  {
   "cell_type": "code",
   "execution_count": null,
   "metadata": {},
   "outputs": [],
   "source": [
    "# Example that scrapes past game results from Kaggle: https://www.kaggle.com/jpmiller/game-analyzer-halite-4-pe"
   ]
  },
  {
   "cell_type": "code",
   "execution_count": null,
   "metadata": {},
   "outputs": [],
   "source": [
    "def get_info(bots, game_count):\n",
    "    # Initial request for submissions\n",
    "    info_url = \"https://www.kaggle.com/requests/EpisodeService/ListEpisodes\"\n",
    "    bot_list = []\n",
    "    for bot in bots:\n",
    "        r = requests.post(info_url, json={\"SubmissionId\": bot})\n",
    "        r_bot = r.json()\n",
    "        bot_df = pd.DataFrame(r_bot['result']['episodes'])\n",
    "        bot_list.append(bot_df[-game_count:])\n",
    "    bot_all = pd.concat(bot_list, ignore_index=True)\n",
    "    return bot_all.drop_duplicates('id')\n",
    "\n",
    "\n",
    "def download_replays(bot_all):\n",
    "    replay_url = \"https://www.kaggle.com/requests/EpisodeService/GetEpisodeReplay\"\n",
    "    for id in bot_all.id:\n",
    "        try:\n",
    "            r = requests.post(replay_url, json={\"EpisodeId\": int(id)})\n",
    "        except:\n",
    "            print(\"Nope, not working.\")\n",
    "        else:\n",
    "            print(f\"Downloaded {id}.json\")\n",
    "            replay = r.json()\n",
    "            with open(f\"{id}.json\", 'w') as f:\n",
    "                f.write(replay['result']['replay'])\n",
    "\n",
    "\n",
    "bots = [17312714]  # stanleyjzheng\n",
    "game_count = 6\n",
    "\n",
    "downloads_unique = get_info(bots, game_count)\n",
    "download_replays(downloads_unique)"
   ]
  },
  {
   "cell_type": "code",
   "execution_count": null,
   "metadata": {},
   "outputs": [],
   "source": [
    "# stanleyjzheng teamID: 5569590\n",
    "\n",
    "list_url = \"https://www.kaggle.com/requests/EpisodeService/ListEpisodes\"\n",
    "r = requests.post(list_url, json={\"teamId\": 5569590})\n",
    "r = r.json()"
   ]
  },
  {
   "cell_type": "code",
   "execution_count": null,
   "metadata": {},
   "outputs": [],
   "source": [
    "from collections import defaultdict\n",
    "\n",
    "team_id = 5569590 # stanleyjzheng\n",
    "submission_ids = defaultdict(int)\n",
    "for ep in r['result']['episodes']:\n",
    "    print(ep)\n",
    "    for agent in ep['agents']:\n",
    "        #print(agent['teamId'])\n",
    "        if agent['submission']['teamId'] == team_id:\n",
    "            #submission_ids.add(agent['submissionId'])\n",
    "            submission_ids[agent['submissionId']] += 1\n",
    "\n",
    "            \n",
    "print(f\"Submission IDs for team {team_id}: {submission_ids}\")"
   ]
  },
  {
   "cell_type": "code",
   "execution_count": null,
   "metadata": {},
   "outputs": [],
   "source": [
    "import requests\n",
    "list_url = \"https://www.kaggle.com/requests/EpisodeService/ListEpisodes\"\n",
    "r = requests.post(list_url, json={\"teamId\": 5566007})\n",
    "print(r.json())"
   ]
  },
  {
   "cell_type": "code",
   "execution_count": null,
   "metadata": {},
   "outputs": [],
   "source": [
    "response = r.json()"
   ]
  },
  {
   "cell_type": "code",
   "execution_count": null,
   "metadata": {},
   "outputs": [],
   "source": [
    "response.keys()"
   ]
  },
  {
   "cell_type": "code",
   "execution_count": null,
   "metadata": {},
   "outputs": [],
   "source": [
    "response['result']['episodes'][100]"
   ]
  },
  {
   "cell_type": "code",
   "execution_count": null,
   "metadata": {},
   "outputs": [],
   "source": [
    "replay_url = \"https://www.kaggle.com/requests/EpisodeService/GetEpisodeReplay\"\n",
    "replay = requests.post(replay_url, json={\"EpisodeId\": 3595340})"
   ]
  },
  {
   "cell_type": "code",
   "execution_count": null,
   "metadata": {},
   "outputs": [],
   "source": [
    "replay = replay.json()"
   ]
  },
  {
   "cell_type": "code",
   "execution_count": null,
   "metadata": {},
   "outputs": [],
   "source": [
    "replay.keys()"
   ]
  },
  {
   "cell_type": "code",
   "execution_count": null,
   "metadata": {},
   "outputs": [],
   "source": [
    "import json\n",
    "\n",
    "with open(\"./data/submission_17327012_episodes/3602885.json\") as f:\n",
    "    episode_json = json.load(f)\n",
    "\n",
    "replay = json.loads(episode_json[\"replay\"])\n",
    "\n",
    "env = make('halite', configuration=replay['configuration'], steps=replay['steps'])\n",
    "env.render(mode=\"ipython\", width=500, height=400, autoplay=False, step=399)"
   ]
  },
  {
   "cell_type": "code",
   "execution_count": null,
   "metadata": {},
   "outputs": [],
   "source": []
  }
 ],
 "metadata": {
  "kernelspec": {
   "display_name": "Python 3",
   "language": "python",
   "name": "python3"
  },
  "language_info": {
   "codemirror_mode": {
    "name": "ipython",
    "version": 3
   },
   "file_extension": ".py",
   "mimetype": "text/x-python",
   "name": "python",
   "nbconvert_exporter": "python",
   "pygments_lexer": "ipython3",
   "version": "3.7.9"
  }
 },
 "nbformat": 4,
 "nbformat_minor": 4
}
